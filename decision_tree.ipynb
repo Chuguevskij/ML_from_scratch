{
  "nbformat": 4,
  "nbformat_minor": 0,
  "metadata": {
    "colab": {
      "provenance": [],
      "authorship_tag": "ABX9TyODRN8soh5aA5J4liwgCXNG",
      "include_colab_link": true
    },
    "kernelspec": {
      "name": "python3",
      "display_name": "Python 3"
    },
    "language_info": {
      "name": "python"
    }
  },
  "cells": [
    {
      "cell_type": "markdown",
      "metadata": {
        "id": "view-in-github",
        "colab_type": "text"
      },
      "source": [
        "<a href=\"https://colab.research.google.com/github/Chuguevskij/ML_from_scratch/blob/main/decision_tree.ipynb\" target=\"_parent\"><img src=\"https://colab.research.google.com/assets/colab-badge.svg\" alt=\"Open In Colab\"/></a>"
      ]
    },
    {
      "cell_type": "code",
      "execution_count": null,
      "metadata": {
        "id": "N9eJcDWWglc0"
      },
      "outputs": [],
      "source": [
        "# imports\n",
        "from __future__ import annotations\n",
        "from typing import Tuple\n",
        "from abc import ABC,abstractmethod\n",
        "from scipy import stats\n",
        "import numpy as np\n",
        "import pandas as pd\n",
        "import matplotlib.pyplot as plt\n",
        "from sklearn.model_selection import train_test_split\n",
        "from sklearn.datasets import load_breast_cancer,make_regression\n",
        "from sklearn.metrics import accuracy_score,precision_score,recall_score,mean_squared_error,mean_absolute_error,r2_score"
      ]
    },
    {
      "cell_type": "code",
      "source": [
        "class Node(object):\n",
        "    \"\"\"\n",
        "    Class to define & control tree nodes\n",
        "    \"\"\"\n",
        "\n",
        "    def __init__(self) -> None:\n",
        "        \"\"\"\n",
        "        Initializer for a Node class instance\n",
        "        \"\"\"\n",
        "        self.__split    = None\n",
        "        self.__feature  = None\n",
        "        self.__left     = None\n",
        "        self.__right    = None\n",
        "        self.leaf_value = None\n",
        "\n",
        "    def set_params(self, split: float, feature: int) -> None:\n",
        "        \"\"\"\n",
        "        Set the split & feature parameters for this node\n",
        "\n",
        "        Input:\n",
        "            split   -> value to split feature on\n",
        "            feature -> index of feature to be used in splitting\n",
        "        \"\"\"\n",
        "        self.__split   = split\n",
        "        self.__feature = feature\n",
        "\n",
        "    def get_params(self) -> Tuple[float,int]:\n",
        "        \"\"\"\n",
        "        Get the split & feature parameters for this node\n",
        "\n",
        "        Output:\n",
        "            Tuple containing (split,feature) pair\n",
        "        \"\"\"\n",
        "        return(self.__split, self.__feature)\n",
        "\n",
        "    def set_children(self, left: Node, right: Node) -> None:\n",
        "        \"\"\"\n",
        "        Set the left/right child nodes for the current node\n",
        "\n",
        "        Inputs:\n",
        "            left  -> LHS child node\n",
        "            right -> RHS child node\n",
        "        \"\"\"\n",
        "        self.__left  = left\n",
        "        self.__right = right\n",
        "\n",
        "    def get_left_node(self) -> Node:\n",
        "        \"\"\"\n",
        "        Get the left child node\n",
        "\n",
        "        Output:\n",
        "            LHS child node\n",
        "        \"\"\"\n",
        "        return(self.__left)\n",
        "\n",
        "    def get_right_node(self) -> Node:\n",
        "        \"\"\"\n",
        "        Get the RHS child node\n",
        "\n",
        "        Output:\n",
        "            RHS child node\n",
        "        \"\"\"\n",
        "        return(self.__right)"
      ],
      "metadata": {
        "id": "N9Or1Ubz6zm0"
      },
      "execution_count": null,
      "outputs": []
    },
    {
      "cell_type": "code",
      "source": [
        "class DecisionTree(ABC):\n",
        "    \"\"\"\n",
        "    Base class to encompass the CART algorithm\n",
        "    \"\"\"\n",
        "\n",
        "    def __init__(self, max_depth: int=None, min_samples_split: int=2) -> None:\n",
        "        \"\"\"\n",
        "        Initializer\n",
        "\n",
        "        Inputs:\n",
        "            max_depth         -> maximum depth the tree can grow\n",
        "            min_samples_split -> minimum number of samples required to split a node\n",
        "        \"\"\"\n",
        "        self.tree              = None\n",
        "        self.max_depth         = max_depth\n",
        "        self.min_samples_split = min_samples_split\n",
        "\n",
        "    @abstractmethod\n",
        "    def _impurity(self, D: np.array) -> None:\n",
        "        \"\"\"\n",
        "        Protected function to define the impurity\n",
        "        \"\"\"\n",
        "        pass\n",
        "\n",
        "    @abstractmethod\n",
        "    def _leaf_value(self, D: np.array) -> None:\n",
        "        \"\"\"\n",
        "        Protected function to compute the value at a leaf node\n",
        "        \"\"\"\n",
        "        pass\n",
        "\n",
        "    def __grow(self, node: Node, D: np.array, level: int) -> None:\n",
        "        \"\"\"\n",
        "        Private recursive function to grow the tree during training\n",
        "\n",
        "        Inputs:\n",
        "            node  -> input tree node\n",
        "            D     -> sample of data at node\n",
        "            level -> depth level in the tree for node\n",
        "        \"\"\"\n",
        "        # are we in a leaf node?\n",
        "        depth = (self.max_depth is None) or (self.max_depth >= (level+1))\n",
        "        msamp = (self.min_samples_split <= D.shape[0])\n",
        "        n_cls = np.unique(D[:,-1]).shape[0] != 1\n",
        "\n",
        "        # not a leaf node\n",
        "        if depth and msamp and n_cls:\n",
        "\n",
        "            # initialize the function parameters\n",
        "            ip_node = None\n",
        "            feature = None\n",
        "            split   = None\n",
        "            left_D  = None\n",
        "            right_D = None\n",
        "            # iterate through the possible feature/split combinations\n",
        "            for f in range(D.shape[1]-1):\n",
        "                for s in np.unique(D[:,f]):\n",
        "                    # for the current (f,s) combination, split the dataset\n",
        "                    D_l = D[D[:,f]<=s]\n",
        "                    D_r = D[D[:,f]>s]\n",
        "                    # ensure we have non-empty arrays\n",
        "                    if D_l.size and D_r.size:\n",
        "                        # calculate the impurity\n",
        "                        ip  = ((D_l.shape[0]/D.shape[0])*self._impurity(D_l) +\n",
        "                               (D_r.shape[0]/D.shape[0])*self._impurity(D_r))\n",
        "                        # now update the impurity and choice of (f,s)\n",
        "                        if (ip_node is None) or (ip < ip_node):\n",
        "                            ip_node = ip\n",
        "                            feature = f\n",
        "                            split   = s\n",
        "                            left_D  = D_l\n",
        "                            right_D = D_r\n",
        "            # set the current node's parameters\n",
        "            node.set_params(split,feature)\n",
        "            # declare child nodes\n",
        "            left_node  = Node()\n",
        "            right_node = Node()\n",
        "            node.set_children(left_node,right_node)\n",
        "            # investigate child nodes\n",
        "            self.__grow(node.get_left_node(),left_D,level+1)\n",
        "            self.__grow(node.get_right_node(),right_D,level+1)\n",
        "\n",
        "        # is a leaf node\n",
        "        else:\n",
        "            # set the node value & return\n",
        "            node.leaf_value = self._leaf_value(D)\n",
        "            return\n",
        "\n",
        "    def __traverse(self, node: Node, Xrow: np.array) -> int | float:\n",
        "        \"\"\"\n",
        "        Private recursive function to traverse the (trained) tree\n",
        "\n",
        "        Inputs:\n",
        "            node -> current node in the tree\n",
        "            Xrow -> data sample being considered\n",
        "        Output:\n",
        "            leaf value corresponding to Xrow\n",
        "        \"\"\"\n",
        "        # check if we're in a leaf node?\n",
        "        if node.leaf_value is None:\n",
        "            # get parameters at the node\n",
        "            (s,f) = node.get_params()\n",
        "            # decide to go left or right?\n",
        "            if (Xrow[f] <= s):\n",
        "                return(self.__traverse(node.get_left_node(),Xrow))\n",
        "            else:\n",
        "                return(self.__traverse(node.get_right_node(),Xrow))\n",
        "        else:\n",
        "            # return the leaf value\n",
        "            return(node.leaf_value)\n",
        "\n",
        "    def train(self, Xin: np.array, Yin: np.array) -> None:\n",
        "        \"\"\"\n",
        "        Train the CART model\n",
        "\n",
        "        Inputs:\n",
        "            Xin -> input set of predictor features\n",
        "            Yin -> input set of labels\n",
        "        \"\"\"\n",
        "        # prepare the input data\n",
        "        D = np.concatenate((Xin,Yin.reshape(-1,1)),axis=1)\n",
        "        # set the root node of the tree\n",
        "        self.tree = Node()\n",
        "        # build the tree\n",
        "        self.__grow(self.tree,D,1)\n",
        "\n",
        "    def predict(self, Xin: np.array) -> np.array:\n",
        "        \"\"\"\n",
        "        Make predictions from the trained CART model\n",
        "\n",
        "        Input:\n",
        "            Xin -> input set of predictor features\n",
        "        Output:\n",
        "            array of prediction values\n",
        "        \"\"\"\n",
        "        # iterate through the rows of Xin\n",
        "        p = []\n",
        "        for r in range(Xin.shape[0]):\n",
        "            p.append(self.__traverse(self.tree,Xin[r,:]))\n",
        "        # return predictions\n",
        "        return(np.array(p).flatten())"
      ],
      "metadata": {
        "id": "bpYFzsgrAsps"
      },
      "execution_count": null,
      "outputs": []
    },
    {
      "cell_type": "code",
      "source": [
        "class DecisionTreeClassifier(DecisionTree):\n",
        "    \"\"\"\n",
        "    Decision Tree Classifier\n",
        "    \"\"\"\n",
        "\n",
        "    def __init__(self, max_depth: int=None, min_samples_split: int=2, loss: str='gini') -> None:\n",
        "        \"\"\"\n",
        "        Initializer\n",
        "\n",
        "        Inputs:\n",
        "            max_depth         -> maximum depth the tree can grow\n",
        "            min_samples_split -> minimum number of samples required to split a node\n",
        "            loss              -> loss function to use during training\n",
        "        \"\"\"\n",
        "        DecisionTree.__init__(self,max_depth,min_samples_split)\n",
        "        self.loss = loss\n",
        "\n",
        "    def __gini(self, D: np.array) -> float:\n",
        "        \"\"\"\n",
        "        Private function to define the gini impurity\n",
        "\n",
        "        Input:\n",
        "            D -> data to compute the gini impurity over\n",
        "        Output:\n",
        "            Gini impurity for D\n",
        "        \"\"\"\n",
        "        # initialize the output\n",
        "        G = 0\n",
        "        # iterate through the unique classes\n",
        "        for c in np.unique(D[:,-1]):\n",
        "            # compute p for the current c\n",
        "            p = D[D[:,-1]==c].shape[0]/D.shape[0]\n",
        "            # compute term for the current c\n",
        "            G += p*(1-p)\n",
        "        # return gini impurity\n",
        "        return(G)\n",
        "\n",
        "    def __entropy(self, D: np.array) -> float:\n",
        "        \"\"\"\n",
        "        Private function to define the shannon entropy\n",
        "\n",
        "        Input:\n",
        "            D -> data to compute the shannon entropy over\n",
        "        Output:\n",
        "            Shannon entropy for D\n",
        "        \"\"\"\n",
        "        # initialize the output\n",
        "        H = 0\n",
        "        # iterate through the unique classes\n",
        "        for c in np.unique(D[:,-1]):\n",
        "            # compute p for the current c\n",
        "            p = D[D[:,-1]==c].shape[0]/D.shape[0]\n",
        "            # compute term for the current c\n",
        "            H -= p*np.log2(p)\n",
        "        # return entropy\n",
        "        return(H)\n",
        "\n",
        "    def _impurity(self, D: np.array) -> float:\n",
        "        \"\"\"\n",
        "        Protected function to define the impurity\n",
        "\n",
        "        Input:\n",
        "            D -> data to compute the impurity metric over\n",
        "        Output:\n",
        "            Impurity metric for D\n",
        "        \"\"\"\n",
        "        # use the selected loss function to calculate the node impurity\n",
        "        ip = None\n",
        "        if self.loss == 'gini':\n",
        "            ip = self.__gini(D)\n",
        "        elif self.loss == 'entropy':\n",
        "            ip = self.__entropy(D)\n",
        "        # return results\n",
        "        return(ip)\n",
        "\n",
        "    def _leaf_value(self, D: np.array) -> int:\n",
        "        \"\"\"\n",
        "        Protected function to compute the value at a leaf node\n",
        "\n",
        "        Input:\n",
        "            D -> data to compute the leaf value\n",
        "        Output:\n",
        "            Mode of D\n",
        "        \"\"\"\n",
        "        return(stats.mode(D[:,-1],keepdims=False)[0])"
      ],
      "metadata": {
        "id": "yBNH-u5w9ExJ"
      },
      "execution_count": null,
      "outputs": []
    },
    {
      "cell_type": "code",
      "source": [
        "class DecisionTreeRegressor(DecisionTree):\n",
        "    \"\"\"\n",
        "    Decision Tree Regressor\n",
        "    \"\"\"\n",
        "\n",
        "    def __init__(self, max_depth: int=None, min_samples_split: int=2, loss: str='mse') -> None:\n",
        "        \"\"\"\n",
        "        Initializer\n",
        "\n",
        "        Inputs:\n",
        "            max_depth         -> maximum depth the tree can grow\n",
        "            min_samples_split -> minimum number of samples required to split a node\n",
        "            loss              -> loss function to use during training\n",
        "        \"\"\"\n",
        "        DecisionTree.__init__(self,max_depth,min_samples_split)\n",
        "        self.loss = loss\n",
        "\n",
        "    def __mse(self, D: np.array) -> float:\n",
        "        \"\"\"\n",
        "        Private function to define the mean squared error\n",
        "\n",
        "        Input:\n",
        "            D -> data to compute the MSE over\n",
        "        Output:\n",
        "            Mean squared error over D\n",
        "        \"\"\"\n",
        "        # compute the mean target for the node\n",
        "        y_m = np.mean(D[:,-1])\n",
        "        # compute the mean squared error wrt the mean\n",
        "        E = np.sum((D[:,-1] - y_m)**2)/D.shape[0]\n",
        "        # return mse\n",
        "        return(E)\n",
        "\n",
        "    def __mae(self, D: np.array) -> float:\n",
        "        \"\"\"\n",
        "        Private function to define the mean absolute error\n",
        "\n",
        "        Input:\n",
        "            D -> data to compute the MAE over\n",
        "        Output:\n",
        "            Mean absolute error over D\n",
        "        \"\"\"\n",
        "        # compute the mean target for the node\n",
        "        y_m = np.mean(D[:,-1])\n",
        "        # compute the mean absolute error wrt the mean\n",
        "        E = np.sum(np.abs(D[:,-1] - y_m))/D.shape[0]\n",
        "        # return mae\n",
        "        return(E)\n",
        "\n",
        "    def _impurity(self, D: np.array) -> float:\n",
        "        \"\"\"\n",
        "        Protected function to define the impurity\n",
        "\n",
        "        Input:\n",
        "            D -> data to compute the impurity metric over\n",
        "        Output:\n",
        "            Impurity metric for D\n",
        "        \"\"\"\n",
        "        # use the selected loss function to calculate the node impurity\n",
        "        ip = None\n",
        "        if self.loss == 'mse':\n",
        "            ip = self.__mse(D)\n",
        "        elif self.loss == 'mae':\n",
        "            ip = self.__mae(D)\n",
        "        # return results\n",
        "        return(ip)\n",
        "\n",
        "    def _leaf_value(self, D: np.array) -> float:\n",
        "        \"\"\"\n",
        "        Protected function to compute the value at a leaf node\n",
        "\n",
        "        Input:\n",
        "            D -> data to compute the leaf value\n",
        "        Output:\n",
        "            Mean of D\n",
        "        \"\"\"\n",
        "        return(np.mean(D[:,-1]))"
      ],
      "metadata": {
        "id": "mnVZtflZAMyj"
      },
      "execution_count": null,
      "outputs": []
    },
    {
      "cell_type": "code",
      "source": [
        "#test = np.array([[1, 4, 2, 3], [1, 4, 2, 6]])\n",
        "test = np.array([1, 4, 2, 3])\n",
        "#np.unique(test[:,-1]).shape[0]\n",
        "print(test.shape)\n",
        "print(test)\n",
        "print()\n",
        "print(test.reshape(-1,1).shape)\n",
        "test.reshape(-1,1)"
      ],
      "metadata": {
        "colab": {
          "base_uri": "https://localhost:8080/"
        },
        "id": "O2HfhUvMoeli",
        "outputId": "1b030ec2-38e2-4c09-ec49-fbda65e0a436"
      },
      "execution_count": null,
      "outputs": [
        {
          "output_type": "stream",
          "name": "stdout",
          "text": [
            "(4,)\n",
            "[1 4 2 3]\n",
            "\n",
            "(4, 1)\n"
          ]
        },
        {
          "output_type": "execute_result",
          "data": {
            "text/plain": [
              "array([[1],\n",
              "       [4],\n",
              "       [2],\n",
              "       [3]])"
            ]
          },
          "metadata": {},
          "execution_count": 39
        }
      ]
    },
    {
      "cell_type": "code",
      "source": [
        "np.unique(test[:,-1]).shape"
      ],
      "metadata": {
        "colab": {
          "base_uri": "https://localhost:8080/"
        },
        "id": "M4VqPkn9sAc-",
        "outputId": "80454025-2c3c-4e2f-d8ae-0fdb8a29db5f"
      },
      "execution_count": null,
      "outputs": [
        {
          "output_type": "execute_result",
          "data": {
            "text/plain": [
              "(2,)"
            ]
          },
          "metadata": {},
          "execution_count": 32
        }
      ]
    },
    {
      "cell_type": "code",
      "source": [
        "test"
      ],
      "metadata": {
        "colab": {
          "base_uri": "https://localhost:8080/"
        },
        "id": "U-3q72CjsMjI",
        "outputId": "7db7970d-74b3-45b8-e680-63d1ed26406a"
      },
      "execution_count": null,
      "outputs": [
        {
          "output_type": "execute_result",
          "data": {
            "text/plain": [
              "array([[1, 4, 2, 4],\n",
              "       [2, 4, 4, 4]])"
            ]
          },
          "metadata": {},
          "execution_count": 15
        }
      ]
    },
    {
      "cell_type": "code",
      "source": [
        "test[:,:2]"
      ],
      "metadata": {
        "colab": {
          "base_uri": "https://localhost:8080/"
        },
        "id": "FmVEQmz5skNV",
        "outputId": "0115eb54-cc87-4bec-b02b-2307903cb70f"
      },
      "execution_count": null,
      "outputs": [
        {
          "output_type": "execute_result",
          "data": {
            "text/plain": [
              "array([[1, 4],\n",
              "       [2, 4]])"
            ]
          },
          "metadata": {},
          "execution_count": 18
        }
      ]
    },
    {
      "cell_type": "code",
      "source": [],
      "metadata": {
        "id": "o_RN88M-speu"
      },
      "execution_count": null,
      "outputs": []
    }
  ]
}