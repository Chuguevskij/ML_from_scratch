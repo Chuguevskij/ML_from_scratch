{
  "nbformat": 4,
  "nbformat_minor": 0,
  "metadata": {
    "colab": {
      "provenance": [],
      "authorship_tag": "ABX9TyN8w/+s2ZrFZwBhjo3Ipci8",
      "include_colab_link": true
    },
    "kernelspec": {
      "name": "python3",
      "display_name": "Python 3"
    },
    "language_info": {
      "name": "python"
    }
  },
  "cells": [
    {
      "cell_type": "markdown",
      "metadata": {
        "id": "view-in-github",
        "colab_type": "text"
      },
      "source": [
        "<a href=\"https://colab.research.google.com/github/Chuguevskij/ML_from_scratch/blob/main/linear_regression.ipynb\" target=\"_parent\"><img src=\"https://colab.research.google.com/assets/colab-badge.svg\" alt=\"Open In Colab\"/></a>"
      ]
    },
    {
      "cell_type": "code",
      "execution_count": null,
      "metadata": {
        "id": "g7QyY_lmbfXt"
      },
      "outputs": [],
      "source": [
        "import pandas as pd\n",
        "import numpy as np\n",
        "from sklearn.model_selection import train_test_split"
      ]
    },
    {
      "cell_type": "code",
      "source": [
        "class LinearRegression:\n",
        "    '''\n",
        "    A class which implements linear regression model with gradient descent.\n",
        "    '''\n",
        "    def __init__(self, learning_rate=0.01, n_iterations=10000):\n",
        "        self.learning_rate = learning_rate\n",
        "        self.n_iterations = n_iterations\n",
        "        self.weights, self.bias = None, None\n",
        "        self.loss = []\n",
        "\n",
        "    @staticmethod\n",
        "    def _mean_squared_error(y, y_hat):\n",
        "        '''\n",
        "        Private method, used to evaluate loss at each iteration.\n",
        "\n",
        "        :param: y - array, true values\n",
        "        :param: y_hat - array, predicted values\n",
        "        :return: float\n",
        "        '''\n",
        "        error = 0\n",
        "        for i in range(len(y)):\n",
        "            error += (y[i] - y_hat[i]) ** 2\n",
        "        return error / len(y)\n",
        "\n",
        "    def fit(self, X, y):\n",
        "            '''\n",
        "            Used to calculate the coefficient of the linear regression model.\n",
        "\n",
        "            :param X: array, features\n",
        "            :param y: array, true values\n",
        "            :return: None\n",
        "            '''\n",
        "            # 1. Initialize weights and bias to zeros\n",
        "            self.weights = np.zeros(X.shape[1])\n",
        "            self.bias = 0\n",
        "\n",
        "            # 2. Perform gradient descent\n",
        "            for i in range(self.n_iterations):\n",
        "                # Line equation\n",
        "                y_hat = np.dot(X, self.weights) + self.bias\n",
        "                loss = self._mean_squared_error(y, y_hat)\n",
        "                self.loss.append(loss)\n",
        "\n",
        "                # Calculate derivatives\n",
        "                partial_w = (1 / X.shape[0]) * (2 * np.dot(X.T, (y_hat - y)))\n",
        "                partial_d = (1 / X.shape[0]) * (2 * np.sum(y_hat - y))\n",
        "\n",
        "                # Update the coefficients\n",
        "                self.weights -= self.learning_rate * partial_w\n",
        "                self.bias -= self.learning_rate * partial_d\n",
        "    def predict(self, X):\n",
        "        '''\n",
        "        Makes predictions using the line equation.\n",
        "\n",
        "        :param X: array, features\n",
        "        :return: array, predictions\n",
        "        '''\n",
        "        return np.dot(X, self.weights) + self.bias"
      ],
      "metadata": {
        "id": "gHwqH8WofuhP"
      },
      "execution_count": null,
      "outputs": []
    },
    {
      "cell_type": "code",
      "source": [
        "from sklearn.datasets import load_diabetes\n",
        "data = load_diabetes()\n",
        "X = data.data\n",
        "y = data.target"
      ],
      "metadata": {
        "id": "RFyC2c3iyvbg"
      },
      "execution_count": null,
      "outputs": []
    },
    {
      "cell_type": "code",
      "source": [
        "X_train, X_test, y_train, y_test = train_test_split(X, y, test_size=0.2, random_state=42)"
      ],
      "metadata": {
        "id": "ZwAxBG2czUP1"
      },
      "execution_count": null,
      "outputs": []
    },
    {
      "cell_type": "code",
      "source": [
        "model = LinearRegression()\n",
        "model.fit(X_train, y_train)\n",
        "preds = model.predict(X_test)"
      ],
      "metadata": {
        "id": "uWMI9unXzV2P"
      },
      "execution_count": null,
      "outputs": []
    },
    {
      "cell_type": "code",
      "source": [
        "mape = sum(abs(y_test - preds) / abs(y_test)) / len(y_test)\n",
        "mape"
      ],
      "metadata": {
        "colab": {
          "base_uri": "https://localhost:8080/"
        },
        "id": "B7eL_ljv1iow",
        "outputId": "84707969-0373-4624-ef06-be1eead9e780"
      },
      "execution_count": null,
      "outputs": [
        {
          "output_type": "execute_result",
          "data": {
            "text/plain": [
              "0.42406370166161245"
            ]
          },
          "metadata": {},
          "execution_count": 10
        }
      ]
    },
    {
      "cell_type": "code",
      "source": [],
      "metadata": {
        "id": "gxuMdmotZW1p"
      },
      "execution_count": null,
      "outputs": []
    }
  ]
}